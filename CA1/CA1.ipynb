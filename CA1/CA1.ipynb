{
 "cells": [
  {
   "cell_type": "markdown",
   "id": "d88a2c45",
   "metadata": {},
   "source": [
    "## Knapsack Problem with Genetic Algorithms\n",
    "This project shows how Genetic Algorithms can be used to solve complex problems like knapsack with constraints and find answers close to the optimal solution."
   ]
  },
  {
   "cell_type": "code",
   "execution_count": 14,
   "id": "19373e5b-9f7b-43f7-82d5-77880a4849db",
   "metadata": {},
   "outputs": [],
   "source": [
    "import pandas as pd\n",
    "import random\n",
    "import numpy as np\n",
    "import statistics\n",
    "import math\n",
    "import matplotlib.pyplot as plt"
   ]
  },
  {
   "cell_type": "markdown",
   "id": "0d57df70",
   "metadata": {},
   "source": [
    "In the cell above, the related libraries are imported for creating dataframes, plotting charts and..."
   ]
  },
  {
   "cell_type": "code",
   "execution_count": 15,
   "id": "2c3740ae-238e-4c38-965f-247d5d20fc41",
   "metadata": {},
   "outputs": [],
   "source": [
    "df = pd.read_csv('snacks.csv')\n",
    "items_cnt = df.shape[0]\n",
    "population_size = 100\n",
    "weight_sum = np.sum(df['Available Weight'])\n",
    "value_sum = np.sum(df['Value'])\n",
    "mutation_rate = int(0.2 * population_size)\n",
    "gen_cnt = 100"
   ]
  },
  {
   "cell_type": "markdown",
   "id": "83bf22c2",
   "metadata": {},
   "source": [
    "The csv file is read using pandas library and some variables are set which can be changed later in order to examine how they each affect the optimality of the final solution."
   ]
  },
  {
   "cell_type": "code",
   "execution_count": 16,
   "id": "a34409bb-1b76-4678-965e-2f6e5a049d2f",
   "metadata": {},
   "outputs": [],
   "source": [
    "weight_lim = int(input(\"weight limit: \"))\n",
    "value_lim = int(input(\"value limit: \"))\n",
    "[lower_lim, upper_lim] = [int(x) for x in input(\"lower and upper limit: \").split()]"
   ]
  },
  {
   "cell_type": "markdown",
   "id": "a969674a",
   "metadata": {},
   "source": [
    "The problem constraints are given to the program as input."
   ]
  },
  {
   "cell_type": "code",
   "execution_count": 17,
   "id": "9d452292",
   "metadata": {},
   "outputs": [],
   "source": [
    "def init_single_chromosome(c):\n",
    "    curr_items = random.randint(lower_lim, upper_lim)\n",
    "    items_ind = random.sample(range(0, items_cnt), curr_items)\n",
    "    chromosome = [0] * items_cnt\n",
    "    for i in items_ind:\n",
    "        chromosome[i] = random.uniform(0, 1)\n",
    "    return chromosome"
   ]
  },
  {
   "cell_type": "markdown",
   "id": "76e187ed",
   "metadata": {},
   "source": [
    "Each chromosome is a list of numbers between 0 and 1 with the length equal to the total number of items. Each fraction (gene of the chromosome) shows the fraction of the related item that we're going to take.\n",
    "In the init_single_chromosome function a single chromosome is created having a random number between the lower and upper limit of genes greater than zero. The fraction between 0 and 1 is also created using a random function. This way the lower and upper limit of the number of items we can take is considered in all chromosomes of the first generation."
   ]
  },
  {
   "cell_type": "code",
   "execution_count": 18,
   "id": "333585fc",
   "metadata": {},
   "outputs": [],
   "source": [
    "def fitness(chromosome):\n",
    "    curr_items = len(chromosome) - chromosome.count(0)\n",
    "    if (curr_items < lower_lim or curr_items > upper_lim): return 0\n",
    "    curr_value = np.sum(np.multiply(chromosome, df['Value']))\n",
    "    curr_weight = np.sum(np.multiply(chromosome, df['Available Weight']))\n",
    "    value_diff = 0 if curr_value >= value_lim else value_lim - curr_value\n",
    "    weight_diff = 0 if curr_weight <= weight_lim else curr_weight - weight_lim\n",
    "    return weight_sum + value_sum - weight_diff - value_diff"
   ]
  },
  {
   "cell_type": "markdown",
   "id": "dd48613e",
   "metadata": {},
   "source": [
    "The fitness of a chromosome is related to wether it has the right amount of items (genes greater than 0), the total weight of the items it takes and their total value.\n",
    "In the fitness function if the number of taken items in a chromosome does not satisfy the limits, its fitness becomes zero since that chromosome isn't good. For a chomosome that has the right weight and value, the fitness becomes the sum of two variables, weight_sum and value_sum, which are the sum of weights and values of all the items in the snacks. For a chromosome that has too much weight or too little value, the value/weight difference with the limit is substracted from its fitness."
   ]
  },
  {
   "cell_type": "code",
   "execution_count": 19,
   "id": "57855980",
   "metadata": {},
   "outputs": [],
   "source": [
    "def create_first_gen():\n",
    "    generation = pd.DataFrame({'Chromosomes': [None] * population_size})\n",
    "    generation['Chromosomes'] = generation['Chromosomes'].apply(init_single_chromosome)\n",
    "    return generation"
   ]
  },
  {
   "cell_type": "markdown",
   "id": "a9c22e9d",
   "metadata": {},
   "source": [
    "In the create_first_gen function the first generation is created using a pandas dataframe with a single 'Chromosome' column, and the function init_single_chromosome which applies to every index of the column."
   ]
  },
  {
   "cell_type": "code",
   "execution_count": 20,
   "id": "d3e54cb2",
   "metadata": {},
   "outputs": [],
   "source": [
    "def sort_by_fitness():\n",
    "    global generation\n",
    "    generation['Fitness'] = generation['Chromosomes'].apply(lambda x: fitness(x))\n",
    "    generation = generation.sort_values(by='Fitness').reset_index(drop=True)"
   ]
  },
  {
   "cell_type": "markdown",
   "id": "c4cb7441",
   "metadata": {},
   "source": [
    "The sort_by_fitness function adds a new column to the generation dataframe named 'Fitness' and calculates the fitness for each chromosome. Then sorts the dataframe based on the calculated fitnesses."
   ]
  },
  {
   "cell_type": "code",
   "execution_count": 21,
   "id": "f9d17dad",
   "metadata": {},
   "outputs": [],
   "source": [
    "def crossover():\n",
    "    global generation\n",
    "    rank_list = range(population_size)\n",
    "    crossover_size = math.floor(population_size/2)\n",
    "    parents = random.choices(rank_list, weights=rank_list, k=population_size)\n",
    "    new_generation = pd.DataFrame({'Chromosomes': [None] * population_size})\n",
    "    for i in range(0, crossover_size, 2):\n",
    "        crossover_point = random.randint(0, items_cnt)\n",
    "        [ind1, ind2] = [parents[i], parents[i+1]]\n",
    "        [parent1, parent2] = [generation['Chromosomes'].iloc[ind1], generation['Chromosomes'].iloc[ind2]]\n",
    "        child1 = parent1[0:crossover_point] + parent2[crossover_point:]\n",
    "        child2 = parent2[0:crossover_point] + parent1[crossover_point:]\n",
    "        new_generation['Chromosomes'].iloc[i:i+2] = [child1, child2]\n",
    "    for i in range(crossover_size, population_size):\n",
    "        ind = parents[i]\n",
    "        new_generation['Chromosomes'].iloc[i] = generation['Chromosomes'].iloc[ind]\n",
    "    generation = new_generation"
   ]
  },
  {
   "cell_type": "markdown",
   "id": "8fac217f",
   "metadata": {},
   "source": [
    "The crossover function ranks every chromosome by its fitness. Then chooses as many chromosomes as the population size randomly with the rank as their weight, in order to make a next generation. Half of the chosen chromosomes are crossovered with eachother and the other half go straight to the next generation. Chromosomes with higher rank are better and have higher chance of having an effect on the next generation."
   ]
  },
  {
   "cell_type": "code",
   "execution_count": 22,
   "id": "26e4d8d6",
   "metadata": {},
   "outputs": [],
   "source": [
    "def mutate():\n",
    "    global generation\n",
    "    for i in range(mutation_rate):\n",
    "        chromosome = random.randint(0, population_size - 1)\n",
    "        gene = random.randint(0, items_cnt - 1)\n",
    "        generation['Chromosomes'].iloc[chromosome][gene] = random.uniform(0,1)"
   ]
  },
  {
   "cell_type": "markdown",
   "id": "ab36632a",
   "metadata": {},
   "source": [
    "The mutate fuction chooses a fraction of the population randomly (considering the mutation rate) and changes one random gene of the chosen chromosomes randomly between 0 and 1."
   ]
  },
  {
   "cell_type": "code",
   "execution_count": 23,
   "id": "02dc0ef9",
   "metadata": {},
   "outputs": [],
   "source": [
    "sum_of_fitness = []\n",
    "max_of_fitness = []\n",
    "generation = create_first_gen()\n",
    "sort_by_fitness()\n",
    "for i in range(gen_cnt):\n",
    "    crossover()\n",
    "    mutate()\n",
    "    sort_by_fitness()\n",
    "    max_of_fitness = max_of_fitness + [np.max(generation['Fitness'])]\n",
    "    sum_of_fitness = sum_of_fitness + [np.sum(generation['Fitness'])]"
   ]
  },
  {
   "cell_type": "markdown",
   "id": "13ba64a6",
   "metadata": {},
   "source": [
    "A first generation is created and sorted by fitness. Then in the for loop, the current generation is crossovered and mutated and a new generation is made. The new generation is sorted by fitness and the max fitness and sum of fitnesses of this new generation is saved in a list to be demonstrated later. This loop happens as many times as specified."
   ]
  },
  {
   "cell_type": "code",
   "execution_count": 24,
   "id": "0820f7d1",
   "metadata": {},
   "outputs": [
    {
     "data": {
      "image/png": "[encoded data removed]",
      "text/plain": [
       "<Figure size 640x480 with 2 Axes>"
      ]
     },
     "metadata": {},
     "output_type": "display_data"
    }
   ],
   "source": [
    "t = range(gen_cnt)\n",
    "plt.subplot(1, 2, 1)\n",
    "plt.plot(t, max_of_fitness)\n",
    "plt.title('Max of fitnesses')\n",
    "plt.ylabel('Max fitness')\n",
    "plt.xlabel('Generation')\n",
    "plt.grid()\n",
    "plt.subplot(1, 2, 2)\n",
    "plt.plot(t, sum_of_fitness)\n",
    "plt.title('Sum of fitnesses')\n",
    "plt.ylabel('Fitness sum')\n",
    "plt.xlabel('Generation')\n",
    "plt.grid()\n",
    "plt.subplots_adjust(wspace=0.5)"
   ]
  },
  {
   "cell_type": "markdown",
   "id": "ab94e09a",
   "metadata": {},
   "source": [
    "In the above charts, the growth of the max fitness and sum of fitnesses over time is shown, until the semi-optimal point is reached."
   ]
  },
  {
   "cell_type": "code",
   "execution_count": 25,
   "id": "4d4dc60b",
   "metadata": {},
   "outputs": [
    {
     "name": "stdout",
     "output_type": "stream",
     "text": [
      "MazMaz: 0.26\n",
      "Jooj: 5.39\n",
      "Cookies: 3.35\n",
      "Pastil: 2.25\n",
      "Ghottab: 6.74\n"
     ]
    }
   ],
   "source": [
    "winner = generation['Chromosomes'].iloc[-1]\n",
    "items_taken = [df['Snack'].iloc[i] for i in range(len(winner)) if winner[i] != 0]\n",
    "item_weights = [df['Available Weight'].iloc[i] * winner[i] for i in range(len(winner)) if winner[i] != 0]\n",
    "for i in range(len(items_taken)):\n",
    "    print(\"%s: %.2f\" %(items_taken[i], item_weights[i]))"
   ]
  },
  {
   "cell_type": "code",
   "execution_count": 26,
   "id": "53234beb",
   "metadata": {},
   "outputs": [
    {
     "name": "stdout",
     "output_type": "stream",
     "text": [
      "value limit: 30, value found: 30.05\n",
      "weight limit: 18, weight found: 18.00\n"
     ]
    }
   ],
   "source": [
    "print(\"value limit: %d, value found: %.2f\" %(value_lim, np.sum(np.multiply(winner, df['Value']))))\n",
    "print(\"weight limit: %d, weight found: %.2f\" %(weight_lim, np.sum(np.multiply(winner, df['Available Weight']))))"
   ]
  }
 ],
 "metadata": {
  "kernelspec": {
   "display_name": "Python 3 (ipykernel)",
   "language": "python",
   "name": "python3"
  },
  "language_info": {
   "codemirror_mode": {
    "name": "ipython",
    "version": 3
   },
   "file_extension": ".py",
   "mimetype": "text/x-python",
   "name": "python",
   "nbconvert_exporter": "python",
   "pygments_lexer": "ipython3",
   "version": "3.11.5"
  }
 },
 "nbformat": 4,
 "nbformat_minor": 5
}
